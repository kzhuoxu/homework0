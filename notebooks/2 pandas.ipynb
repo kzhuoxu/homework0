{
 "cells": [
  {
   "cell_type": "code",
   "execution_count": 2,
   "id": "e3cff62e",
   "metadata": {},
   "outputs": [],
   "source": [
    "import pandas as pd"
   ]
  },
  {
   "cell_type": "markdown",
   "id": "e1a2dbbe",
   "metadata": {},
   "source": [
    "# Read csv file"
   ]
  },
  {
   "cell_type": "code",
   "execution_count": 5,
   "id": "3abf6165",
   "metadata": {},
   "outputs": [],
   "source": [
    "data = pd.read_csv('.././datasets/housing_paml.csv')"
   ]
  },
  {
   "cell_type": "code",
   "execution_count": 3,
   "id": "eeb404f1",
   "metadata": {},
   "outputs": [
    {
     "name": "stdout",
     "output_type": "stream",
     "text": [
      "   longitude  latitude  housing_median_age  total_rooms  total_bedrooms  \\\n",
      "0    -122.23     37.88                41.0        880.0           129.0   \n",
      "1    -122.22     37.86                21.0       7099.0          1106.0   \n",
      "2    -122.24     37.85                52.0       1467.0           190.0   \n",
      "3    -122.25     37.85                52.0       1274.0           235.0   \n",
      "4    -122.25     37.85                52.0       1627.0           280.0   \n",
      "\n",
      "   population  households  median_income  median_house_value ocean_proximity  \n",
      "0       322.0       126.0         8.3252            452600.0        NEAR BAY  \n",
      "1      2401.0      1138.0         8.3014            358500.0        NEAR BAY  \n",
      "2       496.0       177.0         7.2574            352100.0        NEAR BAY  \n",
      "3       558.0       219.0         5.6431            341300.0        NEAR BAY  \n",
      "4       565.0       259.0         3.8462            342200.0             NaN  \n"
     ]
    }
   ],
   "source": [
    "print(data.head())"
   ]
  },
  {
   "cell_type": "markdown",
   "id": "48f82453",
   "metadata": {},
   "source": [
    "# Accessing data"
   ]
  },
  {
   "cell_type": "code",
   "execution_count": 4,
   "id": "7d5ae45e",
   "metadata": {},
   "outputs": [
    {
     "name": "stdout",
     "output_type": "stream",
     "text": [
      "0         322.0\n",
      "1        2401.0\n",
      "2         496.0\n",
      "3         558.0\n",
      "4         565.0\n",
      "          ...  \n",
      "20635     845.0\n",
      "20636     356.0\n",
      "20637    1007.0\n",
      "20638     741.0\n",
      "20639    1387.0\n",
      "Name: population, Length: 20640, dtype: float64\n"
     ]
    }
   ],
   "source": [
    "print(data['population'])"
   ]
  },
  {
   "cell_type": "code",
   "execution_count": 5,
   "id": "7936650c",
   "metadata": {},
   "outputs": [
    {
     "name": "stdout",
     "output_type": "stream",
     "text": [
      "0         322.0\n",
      "1        2401.0\n",
      "2         496.0\n",
      "3         558.0\n",
      "4         565.0\n",
      "          ...  \n",
      "20635     845.0\n",
      "20636     356.0\n",
      "20637    1007.0\n",
      "20638     741.0\n",
      "20639    1387.0\n",
      "Name: population, Length: 20640, dtype: float64\n"
     ]
    }
   ],
   "source": [
    "print(data.population)\n",
    "#print(data.population[0]) # index similarily as arrays"
   ]
  },
  {
   "cell_type": "code",
   "execution_count": 6,
   "id": "205607ff",
   "metadata": {},
   "outputs": [
    {
     "name": "stdout",
     "output_type": "stream",
     "text": [
      "   longitude  latitude  housing_median_age  total_rooms  total_bedrooms  \\\n",
      "2    -122.24     37.85                52.0       1467.0           190.0   \n",
      "3    -122.25     37.85                52.0       1274.0           235.0   \n",
      "4    -122.25     37.85                52.0       1627.0           280.0   \n",
      "5    -122.25     37.85                52.0        919.0           213.0   \n",
      "\n",
      "   population  households  median_income  median_house_value ocean_proximity  \n",
      "2       496.0       177.0         7.2574            352100.0        NEAR BAY  \n",
      "3       558.0       219.0         5.6431            341300.0        NEAR BAY  \n",
      "4       565.0       259.0         3.8462            342200.0             NaN  \n",
      "5         NaN       193.0         4.0368            269700.0        NEAR BAY  \n",
      "2    52.0\n",
      "3    52.0\n",
      "4    52.0\n",
      "5    52.0\n",
      "Name: housing_median_age, dtype: float64\n"
     ]
    }
   ],
   "source": [
    "#loc selects rows for elements 2 --> 5 \n",
    "two_rows = data.loc[2:5]\n",
    "print(two_rows)\n",
    "print(two_rows['housing_median_age']) # index into data"
   ]
  },
  {
   "cell_type": "code",
   "execution_count": 7,
   "id": "7690aa12",
   "metadata": {},
   "outputs": [
    {
     "name": "stdout",
     "output_type": "stream",
     "text": [
      "   longitude  latitude  housing_median_age  total_rooms  total_bedrooms  \\\n",
      "0    -122.23     37.88                41.0        880.0           129.0   \n",
      "1    -122.22     37.86                21.0       7099.0          1106.0   \n",
      "\n",
      "   population  households  median_income  median_house_value ocean_proximity  \n",
      "0       322.0       126.0         8.3252            452600.0        NEAR BAY  \n",
      "1      2401.0      1138.0         8.3014            358500.0        NEAR BAY  \n",
      "0    41.0\n",
      "1    21.0\n",
      "Name: housing_median_age, dtype: float64\n"
     ]
    }
   ],
   "source": [
    "#iloc selects rows and columns at specific integer positions.\n",
    "two_rows = data.iloc[[0,1]]\n",
    "print(two_rows)\n",
    "print(two_rows['housing_median_age'])"
   ]
  },
  {
   "cell_type": "code",
   "execution_count": 16,
   "id": "a245ccd2",
   "metadata": {},
   "outputs": [
    {
     "name": "stdout",
     "output_type": "stream",
     "text": [
      "   longitude  latitude  housing_median_age\n",
      "0    -122.23     37.88                41.0\n",
      "1    -122.22     37.86                21.0\n",
      "2    -122.24     37.85                52.0\n"
     ]
    }
   ],
   "source": [
    "#iloc selects first three rows and first two columns at specific integer positions.\n",
    "# data.iloc[start_row:end_row,start_col:end_col]\n",
    "three_rows_two_cols = data.iloc[0:3,0:3]\n",
    "print(three_rows_two_cols)"
   ]
  },
  {
   "cell_type": "markdown",
   "id": "18434747",
   "metadata": {},
   "source": [
    "# Check for NaN"
   ]
  },
  {
   "cell_type": "code",
   "execution_count": 9,
   "id": "5d0445df",
   "metadata": {},
   "outputs": [
    {
     "name": "stdout",
     "output_type": "stream",
     "text": [
      "0        False\n",
      "1        False\n",
      "2        False\n",
      "3        False\n",
      "4        False\n",
      "         ...  \n",
      "20635    False\n",
      "20636    False\n",
      "20637    False\n",
      "20638    False\n",
      "20639    False\n",
      "Name: housing_median_age, Length: 20640, dtype: bool\n"
     ]
    }
   ],
   "source": [
    "print(data['housing_median_age'].isnull())"
   ]
  },
  {
   "cell_type": "code",
   "execution_count": 10,
   "id": "1a2438c9",
   "metadata": {},
   "outputs": [
    {
     "name": "stdout",
     "output_type": "stream",
     "text": [
      "12\n"
     ]
    }
   ],
   "source": [
    "print(data['housing_median_age'].isnull().sum())"
   ]
  },
  {
   "cell_type": "code",
   "execution_count": 11,
   "id": "5ff7f125",
   "metadata": {},
   "outputs": [
    {
     "name": "stdout",
     "output_type": "stream",
     "text": [
      "0\n"
     ]
    }
   ],
   "source": [
    "data_na = data.dropna()\n",
    "print(data_na['housing_median_age'].isnull().sum())"
   ]
  },
  {
   "cell_type": "markdown",
   "id": "c554b756",
   "metadata": {},
   "source": [
    "# Compute Correlation"
   ]
  },
  {
   "cell_type": "code",
   "execution_count": 12,
   "id": "358e09af",
   "metadata": {},
   "outputs": [
    {
     "name": "stdout",
     "output_type": "stream",
     "text": [
      "                    longitude  latitude  housing_median_age  total_rooms  \\\n",
      "longitude            1.000000 -0.924599           -0.106605     0.044231   \n",
      "latitude            -0.924599  1.000000            0.009128    -0.035676   \n",
      "housing_median_age  -0.106605  0.009128            1.000000    -0.361014   \n",
      "total_rooms          0.044231 -0.035676           -0.361014     1.000000   \n",
      "total_bedrooms       0.069187 -0.066574           -0.320227     0.930408   \n",
      "population           0.099281 -0.108339           -0.295788     0.857058   \n",
      "households           0.054899 -0.070667           -0.302540     0.918476   \n",
      "median_income       -0.015451 -0.079031           -0.118324     0.197915   \n",
      "median_house_value  -0.046036 -0.143627            0.106464     0.134041   \n",
      "\n",
      "                    total_bedrooms  population  households  median_income  \\\n",
      "longitude                 0.069187    0.099281    0.054899      -0.015451   \n",
      "latitude                 -0.066574   -0.108339   -0.070667      -0.079031   \n",
      "housing_median_age       -0.320227   -0.295788   -0.302540      -0.118324   \n",
      "total_rooms               0.930408    0.857058    0.918476       0.197915   \n",
      "total_bedrooms            1.000000    0.877672    0.979717      -0.007374   \n",
      "population                0.877672    1.000000    0.907149       0.004640   \n",
      "households                0.979717    0.907149    1.000000       0.013007   \n",
      "median_income            -0.007374    0.004640    0.013007       1.000000   \n",
      "median_house_value        0.049949   -0.024871    0.065754       0.688046   \n",
      "\n",
      "                    median_house_value  \n",
      "longitude                    -0.046036  \n",
      "latitude                     -0.143627  \n",
      "housing_median_age            0.106464  \n",
      "total_rooms                   0.134041  \n",
      "total_bedrooms                0.049949  \n",
      "population                   -0.024871  \n",
      "households                    0.065754  \n",
      "median_income                 0.688046  \n",
      "median_house_value            1.000000  \n"
     ]
    }
   ],
   "source": [
    "corr = data.corr()\n",
    "print(corr)\n",
    "#print(corr['total_rooms']['total_bedrooms'])"
   ]
  },
  {
   "cell_type": "code",
   "execution_count": 13,
   "id": "3fc2fd29",
   "metadata": {},
   "outputs": [
    {
     "name": "stdout",
     "output_type": "stream",
     "text": [
      "0.0046398335427524084\n"
     ]
    }
   ],
   "source": [
    "corr_population_median_income = data['population'].corr(data['median_income'])\n",
    "print(corr_population_median_income)"
   ]
  },
  {
   "cell_type": "code",
   "execution_count": null,
   "id": "f3e663b0",
   "metadata": {},
   "outputs": [],
   "source": []
  },
  {
   "cell_type": "code",
   "execution_count": null,
   "id": "08dd957b",
   "metadata": {},
   "outputs": [],
   "source": []
  }
 ],
 "metadata": {
  "kernelspec": {
   "display_name": "Python 3",
   "language": "python",
   "name": "python3"
  },
  "language_info": {
   "codemirror_mode": {
    "name": "ipython",
    "version": 3
   },
   "file_extension": ".py",
   "mimetype": "text/x-python",
   "name": "python",
   "nbconvert_exporter": "python",
   "pygments_lexer": "ipython3",
   "version": "3.10.13"
  }
 },
 "nbformat": 4,
 "nbformat_minor": 5
}
